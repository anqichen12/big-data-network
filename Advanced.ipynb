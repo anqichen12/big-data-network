{
 "cells": [
  {
   "cell_type": "code",
   "execution_count": 1,
   "metadata": {},
   "outputs": [],
   "source": [
    "from pyspark.sql import SparkSession\n",
    "from pyspark.sql.types import *\n",
    "import pyspark.sql.functions as F\n",
    "spark = SparkSession.builder.appName('Graphs-HW2').getOrCreate()"
   ]
  },
  {
   "cell_type": "code",
   "execution_count": 2,
   "metadata": {},
   "outputs": [],
   "source": [
    "from pyspark.sql.functions import lit"
   ]
  },
  {
   "cell_type": "code",
   "execution_count": 3,
   "metadata": {},
   "outputs": [],
   "source": [
    "import pyspark.sql.functions as sf"
   ]
  },
  {
   "cell_type": "code",
   "execution_count": 4,
   "metadata": {},
   "outputs": [],
   "source": [
    "# Read lines from the text file\n",
    "pr_sdf = spark.read.load('pr_graph.txt', format=\"text\")"
   ]
  },
  {
   "cell_type": "code",
   "execution_count": 5,
   "metadata": {},
   "outputs": [],
   "source": [
    "pr_sdf.createOrReplaceTempView('pr_sdf_view')\n",
    "pr_sdf = spark.sql(\"SELECT CAST(split(value, ' ')[0] AS int) AS from_node, CAST(split(value, ' ')[1] AS int) AS to_node FROM pr_sdf_view\")"
   ]
  },
  {
   "cell_type": "code",
   "execution_count": 6,
   "metadata": {},
   "outputs": [
    {
     "name": "stdout",
     "output_type": "stream",
     "text": [
      "+---------+-------+\n",
      "|from_node|to_node|\n",
      "+---------+-------+\n",
      "|        1|      2|\n",
      "|        1|      3|\n",
      "|        1|      4|\n",
      "|        1|      5|\n",
      "|        2|      3|\n",
      "+---------+-------+\n",
      "only showing top 5 rows\n",
      "\n"
     ]
    }
   ],
   "source": [
    "pr_sdf.show(5)"
   ]
  },
  {
   "cell_type": "code",
   "execution_count": 7,
   "metadata": {},
   "outputs": [],
   "source": [
    "# from_node, weight\n",
    "def helpera(G):\n",
    "    outdegree_sdf = G.groupBy(\"from_node\").count()\n",
    "    outdegree_sdf = outdegree_sdf.selectExpr(\"from_node\",\"count as outdegree\")\n",
    "    my_fn = F.udf(lambda x: 1/x, DoubleType())\n",
    "    outdegree_sdf = outdegree_sdf.select('from_node',my_fn(outdegree_sdf['outdegree']).alias('weight'))\n",
    "    outdegree_sdf.cache()\n",
    "    return outdegree_sdf"
   ]
  },
  {
   "cell_type": "code",
   "execution_count": 9,
   "metadata": {},
   "outputs": [],
   "source": [
    "#from_node, to_node, weight\n",
    "def helperb(G, out):\n",
    "    return_sdf = G.alias('g').join(out.alias('o'),'from_node','left')\n",
    "    return return_sdf"
   ]
  },
  {
   "cell_type": "code",
   "execution_count": 11,
   "metadata": {},
   "outputs": [],
   "source": [
    "def pagerank(G, num_iter):\n",
    "    #Your logic goes here\n",
    "    all_node = G.select(G['from_node'].alias('node')).unionAll(G.select(G['to_node'].alias('node'))).distinct()\n",
    "    #calculate initial pagerank\n",
    "    init_pr = 1/all_node.count()\n",
    "    helper1 = helpera(pr_sdf)\n",
    "    helper2 = helperb(pr_sdf,helper1)\n",
    "    helper2 = helper2.withColumn('from_pr',lit(init_pr))\n",
    "    my_fn = F.udf(lambda x, y: x*y, DoubleType())\n",
    "    #calculate to_pr --> cur_pr\n",
    "    helper3 = helper2.select('from_node','to_node','weight','from_pr',my_fn('weight','from_pr').alias('avg_pr'))\n",
    "    helper3 = helper3.groupBy(\"to_node\").agg(sf.sum('avg_pr').alias('tot_pr'))\n",
    "    cal_fn = F.udf(lambda x: 0.85*x+0.15, DoubleType())\n",
    "    helper3 = helper3.select('to_node',cal_fn('tot_pr').alias('to_pr'))\n",
    "    helper2 = helper2.join(helper3,'to_node','left')\n",
    "    helper1.cache()\n",
    "    helper2.cache()\n",
    "    helper3.cache()\n",
    "    #iterate\n",
    "    i=1\n",
    "    while i<num_iter:\n",
    "        helper2 = helperb(pr_sdf,helper1)\n",
    "        #update helper2 by changing from_pr to cur_pr\n",
    "        helper3 = helper3.selectExpr(\"to_node as from_node\",\"to_pr as from_pr\")\n",
    "        helper2 = helper2.alias('a').join(helper3.alias('b'),'from_node','left')\n",
    "        my_fn = F.udf(lambda x, y: x*y, DoubleType())\n",
    "        helper3 = helper2.select('from_node','to_node','weight','from_pr',my_fn('weight','from_pr').alias('avg_pr'))\n",
    "        helper3 = helper3.groupBy(\"to_node\").agg(sf.sum('avg_pr').alias('tot_pr'))\n",
    "        cal_fn = F.udf(lambda x: 0.85*x+0.15, DoubleType())\n",
    "        helper3 = helper3.select('to_node',cal_fn('tot_pr').alias('to_pr'))\n",
    "        helper2 = helper2.join(helper3,'to_node','left')\n",
    "        helper1.cache()\n",
    "        helper2.cache()\n",
    "        helper3.cache()\n",
    "        i=i+1\n",
    "    pr_values_sdf = helper2.selectExpr('to_node as node','to_pr as pagerank').distinct()\n",
    "    return pr_values_sdf"
   ]
  },
  {
   "cell_type": "markdown",
   "metadata": {},
   "source": [
    "## Step 5"
   ]
  },
  {
   "cell_type": "code",
   "execution_count": 12,
   "metadata": {},
   "outputs": [
    {
     "data": {
      "text/plain": [
       "16"
      ]
     },
     "execution_count": 12,
     "metadata": {},
     "output_type": "execute_result"
    }
   ],
   "source": [
    "pr_sdf.count()"
   ]
  },
  {
   "cell_type": "code",
   "execution_count": 13,
   "metadata": {},
   "outputs": [
    {
     "name": "stdout",
     "output_type": "stream",
     "text": [
      "+---------+-------+\n",
      "|from_node|to_node|\n",
      "+---------+-------+\n",
      "|        1|      2|\n",
      "|        1|      3|\n",
      "|        1|      4|\n",
      "|        1|      5|\n",
      "|        2|      3|\n",
      "|        2|      5|\n",
      "|        3|      2|\n",
      "|        4|      5|\n",
      "|        5|      1|\n",
      "|        5|      6|\n",
      "|        5|      7|\n",
      "|        6|      7|\n",
      "|        7|      6|\n",
      "|        7|      2|\n",
      "|        7|      7|\n",
      "|        5|      4|\n",
      "+---------+-------+\n",
      "\n"
     ]
    }
   ],
   "source": [
    "pr_sdf.show()"
   ]
  },
  {
   "cell_type": "code",
   "execution_count": 14,
   "metadata": {},
   "outputs": [
    {
     "name": "stdout",
     "output_type": "stream",
     "text": [
      "+----+-------------------+\n",
      "|node|           pagerank|\n",
      "+----+-------------------+\n",
      "|   1| 0.3056855115440409|\n",
      "|   2|  0.843575161873236|\n",
      "|   3| 0.5262470701160463|\n",
      "|   4|0.36610546184882914|\n",
      "|   5| 0.8147069488207835|\n",
      "|   6| 0.5380753784802238|\n",
      "|   7| 0.9433725923168398|\n",
      "+----+-------------------+\n",
      "\n"
     ]
    }
   ],
   "source": [
    "pagerank(pr_sdf, 5).orderBy(\"node\").show()"
   ]
  }
 ],
 "metadata": {
  "kernelspec": {
   "display_name": "Python 3",
   "language": "python",
   "name": "python3"
  },
  "language_info": {
   "codemirror_mode": {
    "name": "ipython",
    "version": 3
   },
   "file_extension": ".py",
   "mimetype": "text/x-python",
   "name": "python",
   "nbconvert_exporter": "python",
   "pygments_lexer": "ipython3",
   "version": "3.6.3"
  }
 },
 "nbformat": 4,
 "nbformat_minor": 1
}
