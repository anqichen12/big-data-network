{
 "cells": [
  {
   "cell_type": "markdown",
   "metadata": {},
   "source": [
    "# CIS 545 Homework 2: Graphs"
   ]
  },
  {
   "cell_type": "code",
   "execution_count": 55,
   "metadata": {},
   "outputs": [
    {
     "name": "stdout",
     "output_type": "stream",
     "text": [
      "Requirement already satisfied: networkx in /opt/conda/lib/python3.6/site-packages\n",
      "Requirement already satisfied: decorator>=4.1.0 in /opt/conda/lib/python3.6/site-packages (from networkx)\n"
     ]
    }
   ],
   "source": [
    "# Execute this once, the first time you run\n",
    "!pip install networkx\n",
    "\n",
    "# Disable Python warning messages - you should probably only run this before submission\n",
    "\n",
    "import warnings\n",
    "warnings.filterwarnings('ignore')"
   ]
  },
  {
   "cell_type": "markdown",
   "metadata": {},
   "source": [
    "## Step 2.1 Spark Setup"
   ]
  },
  {
   "cell_type": "code",
   "execution_count": 56,
   "metadata": {},
   "outputs": [],
   "source": [
    "# TODO: Connect to Spark as per Step 2.1\n",
    "from pyspark.sql import SparkSession\n",
    "from pyspark.sql.types import *\n",
    "import pyspark.sql.functions as F\n",
    "\n",
    "spark = SparkSession.builder.appName('Graphs-HW2').getOrCreate()"
   ]
  },
  {
   "cell_type": "code",
   "execution_count": 57,
   "metadata": {},
   "outputs": [],
   "source": [
    "# Load some dummy data, which should be overwritten in Step 2.2\n",
    "\n",
    "answers_sdf = spark.createDataFrame([{'from_node': 123, 'to_node': 456},\\\n",
    "                                    {'from_node': 456, 'to_node': 789},\n",
    "                                    {'from_node': 456, 'to_node': 890}])\n",
    "comments_answers_sdf = spark.createDataFrame([{'from_node': 123, 'to_node': 456}])\n",
    "comments_questions_sdf = spark.createDataFrame([{'from_node': 123, 'to_node': 456}])\n",
    "\n",
    "graph_sdf = spark.createDataFrame([{'from_node': 123, 'to_node': 456}])"
   ]
  },
  {
   "cell_type": "markdown",
   "metadata": {},
   "source": [
    "## Step 2.2 Loading"
   ]
  },
  {
   "cell_type": "code",
   "execution_count": 58,
   "metadata": {},
   "outputs": [],
   "source": [
    "# TODO: load data as per Step 2.2\n",
    "answers_sdf = spark.read.load('sx-stackoverflow-a2q.txt', format=\"text\")"
   ]
  },
  {
   "cell_type": "code",
   "execution_count": 59,
   "metadata": {},
   "outputs": [],
   "source": [
    "comments_answers_sdf = spark.read.load('sx-stackoverflow-c2a.txt', format=\"text\")"
   ]
  },
  {
   "cell_type": "code",
   "execution_count": 60,
   "metadata": {},
   "outputs": [],
   "source": [
    "comments_questions_sdf = spark.read.load('sx-stackoverflow-c2q.txt', format=\"text\")"
   ]
  },
  {
   "cell_type": "code",
   "execution_count": 61,
   "metadata": {},
   "outputs": [],
   "source": [
    "# You may add as many cells as you like here.\n",
    "# Use Insert | Insert Cell Below"
   ]
  },
  {
   "cell_type": "markdown",
   "metadata": {},
   "source": [
    "## Step 2.2 Results"
   ]
  },
  {
   "cell_type": "code",
   "execution_count": 62,
   "metadata": {},
   "outputs": [
    {
     "data": {
      "text/plain": [
       "17823525"
      ]
     },
     "execution_count": 62,
     "metadata": {},
     "output_type": "execute_result"
    }
   ],
   "source": [
    "answers_sdf.count()"
   ]
  },
  {
   "cell_type": "code",
   "execution_count": 63,
   "metadata": {},
   "outputs": [
    {
     "name": "stdout",
     "output_type": "stream",
     "text": [
      "+----------------+\n",
      "|           value|\n",
      "+----------------+\n",
      "|  9 8 1217567877|\n",
      "|  1 1 1217573801|\n",
      "| 13 1 1217606247|\n",
      "| 17 1 1217617639|\n",
      "| 48 2 1217618182|\n",
      "| 17 1 1217618239|\n",
      "| 19 9 1217618357|\n",
      "|13 23 1217618560|\n",
      "|13 11 1217618799|\n",
      "|23 23 1217619360|\n",
      "+----------------+\n",
      "only showing top 10 rows\n",
      "\n"
     ]
    }
   ],
   "source": [
    "answers_sdf.show(10)"
   ]
  },
  {
   "cell_type": "code",
   "execution_count": 64,
   "metadata": {},
   "outputs": [
    {
     "name": "stdout",
     "output_type": "stream",
     "text": [
      "root\n",
      " |-- value: string (nullable = true)\n",
      "\n"
     ]
    }
   ],
   "source": [
    "answers_sdf.printSchema()"
   ]
  },
  {
   "cell_type": "code",
   "execution_count": 65,
   "metadata": {},
   "outputs": [
    {
     "data": {
      "text/plain": [
       "25405374"
      ]
     },
     "execution_count": 65,
     "metadata": {},
     "output_type": "execute_result"
    }
   ],
   "source": [
    "comments_answers_sdf.count()"
   ]
  },
  {
   "cell_type": "code",
   "execution_count": 66,
   "metadata": {},
   "outputs": [
    {
     "name": "stdout",
     "output_type": "stream",
     "text": [
      "+--------------------+\n",
      "|               value|\n",
      "+--------------------+\n",
      "|     1 91 1220713630|\n",
      "|     3 91 1220713792|\n",
      "|  380 350 1220715736|\n",
      "|4642 2257 1220734307|\n",
      "|4642 1324220 1220...|\n",
      "|2495 4285 1220736640|\n",
      "|4642 4893 1220737355|\n",
      "|2515 4903 1220738560|\n",
      "|2515 4893 1220739071|\n",
      "|  199 199 1220741079|\n",
      "+--------------------+\n",
      "only showing top 10 rows\n",
      "\n"
     ]
    }
   ],
   "source": [
    "comments_answers_sdf.show(10)"
   ]
  },
  {
   "cell_type": "code",
   "execution_count": 67,
   "metadata": {},
   "outputs": [
    {
     "name": "stdout",
     "output_type": "stream",
     "text": [
      "root\n",
      " |-- value: string (nullable = true)\n",
      "\n"
     ]
    }
   ],
   "source": [
    "comments_answers_sdf.printSchema()"
   ]
  },
  {
   "cell_type": "code",
   "execution_count": 68,
   "metadata": {},
   "outputs": [
    {
     "data": {
      "text/plain": [
       "20268151"
      ]
     },
     "execution_count": 68,
     "metadata": {},
     "output_type": "execute_result"
    }
   ],
   "source": [
    "comments_questions_sdf.count()"
   ]
  },
  {
   "cell_type": "code",
   "execution_count": 69,
   "metadata": {},
   "outputs": [
    {
     "name": "stdout",
     "output_type": "stream",
     "text": [
      "+--------------------+\n",
      "|               value|\n",
      "+--------------------+\n",
      "|4550 4550 1220729190|\n",
      "|  242 184 1220733503|\n",
      "|4213 4946 1220768149|\n",
      "|    91 91 1220768295|\n",
      "|2658 1874 1220771891|\n",
      "|4035 1874 1220773037|\n",
      "|2257 4489 1220802041|\n",
      "|  577 577 1220834891|\n",
      "|4489 4489 1220853536|\n",
      "| 828 2783 1220854143|\n",
      "+--------------------+\n",
      "only showing top 10 rows\n",
      "\n"
     ]
    }
   ],
   "source": [
    "comments_questions_sdf.show(10)"
   ]
  },
  {
   "cell_type": "code",
   "execution_count": 70,
   "metadata": {},
   "outputs": [
    {
     "name": "stdout",
     "output_type": "stream",
     "text": [
      "root\n",
      " |-- value: string (nullable = true)\n",
      "\n"
     ]
    }
   ],
   "source": [
    "comments_questions_sdf.printSchema()"
   ]
  },
  {
   "cell_type": "markdown",
   "metadata": {},
   "source": [
    "## Step 2.3"
   ]
  },
  {
   "cell_type": "code",
   "execution_count": 71,
   "metadata": {},
   "outputs": [],
   "source": [
    "# TODO: wrangling work in Step 2.3.  Add as many Cells as you need\n"
   ]
  },
  {
   "cell_type": "code",
   "execution_count": 72,
   "metadata": {},
   "outputs": [],
   "source": [
    "answers_sdf.createOrReplaceTempView('answers_sdf_view')\n",
    "answers_sdf = spark.sql(\"SELECT CAST(split(value, ' ')[0] AS int) AS from_node, CAST(split(value, ' ')[1] AS int) AS to_node, 'answer' AS edge_type FROM answers_sdf_view\")"
   ]
  },
  {
   "cell_type": "code",
   "execution_count": 73,
   "metadata": {},
   "outputs": [],
   "source": [
    "comments_questions_sdf.createOrReplaceTempView('comments_questions_sdf_view')"
   ]
  },
  {
   "cell_type": "code",
   "execution_count": 74,
   "metadata": {},
   "outputs": [],
   "source": [
    "comments_questions_sdf = spark.sql(\"SELECT CAST(split(value, ' ')[0] AS int) AS from_node, CAST(split(value, ' ')[1] AS int) AS to_node, 'comment_on_question' AS edge_type FROM comments_questions_sdf_view\")"
   ]
  },
  {
   "cell_type": "code",
   "execution_count": 75,
   "metadata": {},
   "outputs": [],
   "source": [
    "comments_answers_sdf.createOrReplaceTempView('comments_answers_sdf_view')"
   ]
  },
  {
   "cell_type": "code",
   "execution_count": 76,
   "metadata": {},
   "outputs": [],
   "source": [
    "comments_answers_sdf = spark.sql(\"SELECT CAST(split(value, ' ')[0] AS int) AS from_node, CAST(split(value, ' ')[1] AS int) AS to_node, 'comment_on_answer' AS edge_type FROM comments_answers_sdf_view\")"
   ]
  },
  {
   "cell_type": "code",
   "execution_count": 77,
   "metadata": {},
   "outputs": [],
   "source": [
    "graph_sdf = answers_sdf.unionAll(comments_questions_sdf).unionAll(comments_answers_sdf)"
   ]
  },
  {
   "cell_type": "markdown",
   "metadata": {},
   "source": [
    "## Step 2.3 Results"
   ]
  },
  {
   "cell_type": "code",
   "execution_count": 78,
   "metadata": {},
   "outputs": [],
   "source": [
    "answers_sdf.createOrReplaceTempView('answers_sdf_view')"
   ]
  },
  {
   "cell_type": "code",
   "execution_count": 79,
   "metadata": {},
   "outputs": [],
   "source": [
    "comments_questions_sdf.createOrReplaceTempView('comments_questions_sdf_view')"
   ]
  },
  {
   "cell_type": "code",
   "execution_count": 80,
   "metadata": {},
   "outputs": [],
   "source": [
    "comments_answers_sdf.createOrReplaceTempView('comments_answers_sdf_view')"
   ]
  },
  {
   "cell_type": "code",
   "execution_count": 81,
   "metadata": {},
   "outputs": [
    {
     "data": {
      "text/plain": [
       "17823525"
      ]
     },
     "execution_count": 81,
     "metadata": {},
     "output_type": "execute_result"
    }
   ],
   "source": [
    "answers_sdf.count()"
   ]
  },
  {
   "cell_type": "code",
   "execution_count": 82,
   "metadata": {},
   "outputs": [
    {
     "name": "stdout",
     "output_type": "stream",
     "text": [
      "+---------+-------+---------+\n",
      "|from_node|to_node|edge_type|\n",
      "+---------+-------+---------+\n",
      "|        9|      8|   answer|\n",
      "|        1|      1|   answer|\n",
      "|       13|      1|   answer|\n",
      "|       17|      1|   answer|\n",
      "|       48|      2|   answer|\n",
      "+---------+-------+---------+\n",
      "only showing top 5 rows\n",
      "\n"
     ]
    }
   ],
   "source": [
    "answers_sdf.show(5)"
   ]
  },
  {
   "cell_type": "code",
   "execution_count": 83,
   "metadata": {},
   "outputs": [
    {
     "name": "stdout",
     "output_type": "stream",
     "text": [
      "root\n",
      " |-- from_node: integer (nullable = true)\n",
      " |-- to_node: integer (nullable = true)\n",
      " |-- edge_type: string (nullable = false)\n",
      "\n"
     ]
    }
   ],
   "source": [
    "answers_sdf.printSchema()"
   ]
  },
  {
   "cell_type": "code",
   "execution_count": 84,
   "metadata": {},
   "outputs": [
    {
     "data": {
      "text/plain": [
       "25405374"
      ]
     },
     "execution_count": 84,
     "metadata": {},
     "output_type": "execute_result"
    }
   ],
   "source": [
    "comments_answers_sdf.count()"
   ]
  },
  {
   "cell_type": "code",
   "execution_count": 85,
   "metadata": {},
   "outputs": [
    {
     "name": "stdout",
     "output_type": "stream",
     "text": [
      "+---------+-------+-----------------+\n",
      "|from_node|to_node|        edge_type|\n",
      "+---------+-------+-----------------+\n",
      "|        1|     91|comment_on_answer|\n",
      "|        3|     91|comment_on_answer|\n",
      "|      380|    350|comment_on_answer|\n",
      "|     4642|   2257|comment_on_answer|\n",
      "|     4642|1324220|comment_on_answer|\n",
      "+---------+-------+-----------------+\n",
      "only showing top 5 rows\n",
      "\n"
     ]
    }
   ],
   "source": [
    "comments_answers_sdf.show(5)"
   ]
  },
  {
   "cell_type": "code",
   "execution_count": 86,
   "metadata": {},
   "outputs": [
    {
     "name": "stdout",
     "output_type": "stream",
     "text": [
      "root\n",
      " |-- from_node: integer (nullable = true)\n",
      " |-- to_node: integer (nullable = true)\n",
      " |-- edge_type: string (nullable = false)\n",
      "\n"
     ]
    }
   ],
   "source": [
    "comments_answers_sdf.printSchema()"
   ]
  },
  {
   "cell_type": "code",
   "execution_count": 87,
   "metadata": {},
   "outputs": [
    {
     "data": {
      "text/plain": [
       "20268151"
      ]
     },
     "execution_count": 87,
     "metadata": {},
     "output_type": "execute_result"
    }
   ],
   "source": [
    " comments_questions_sdf.count()"
   ]
  },
  {
   "cell_type": "code",
   "execution_count": 88,
   "metadata": {},
   "outputs": [
    {
     "name": "stdout",
     "output_type": "stream",
     "text": [
      "+---------+-------+-------------------+\n",
      "|from_node|to_node|          edge_type|\n",
      "+---------+-------+-------------------+\n",
      "|     4550|   4550|comment_on_question|\n",
      "|      242|    184|comment_on_question|\n",
      "|     4213|   4946|comment_on_question|\n",
      "|       91|     91|comment_on_question|\n",
      "|     2658|   1874|comment_on_question|\n",
      "+---------+-------+-------------------+\n",
      "only showing top 5 rows\n",
      "\n"
     ]
    }
   ],
   "source": [
    "comments_questions_sdf.show(5)"
   ]
  },
  {
   "cell_type": "code",
   "execution_count": 89,
   "metadata": {},
   "outputs": [
    {
     "name": "stdout",
     "output_type": "stream",
     "text": [
      "root\n",
      " |-- from_node: integer (nullable = true)\n",
      " |-- to_node: integer (nullable = true)\n",
      " |-- edge_type: string (nullable = false)\n",
      "\n"
     ]
    }
   ],
   "source": [
    "comments_questions_sdf.printSchema()"
   ]
  },
  {
   "cell_type": "code",
   "execution_count": 90,
   "metadata": {},
   "outputs": [
    {
     "data": {
      "text/plain": [
       "63497050"
      ]
     },
     "execution_count": 90,
     "metadata": {},
     "output_type": "execute_result"
    }
   ],
   "source": [
    "graph_sdf.count()"
   ]
  },
  {
   "cell_type": "code",
   "execution_count": 91,
   "metadata": {},
   "outputs": [
    {
     "name": "stdout",
     "output_type": "stream",
     "text": [
      "+---------+-------+---------+\n",
      "|from_node|to_node|edge_type|\n",
      "+---------+-------+---------+\n",
      "|        9|      8|   answer|\n",
      "|        1|      1|   answer|\n",
      "|       13|      1|   answer|\n",
      "|       17|      1|   answer|\n",
      "|       48|      2|   answer|\n",
      "+---------+-------+---------+\n",
      "only showing top 5 rows\n",
      "\n"
     ]
    }
   ],
   "source": [
    "graph_sdf.show(5)"
   ]
  },
  {
   "cell_type": "code",
   "execution_count": 92,
   "metadata": {},
   "outputs": [
    {
     "name": "stdout",
     "output_type": "stream",
     "text": [
      "root\n",
      " |-- from_node: integer (nullable = true)\n",
      " |-- to_node: integer (nullable = true)\n",
      " |-- edge_type: string (nullable = false)\n",
      "\n"
     ]
    }
   ],
   "source": [
    "graph_sdf.printSchema()"
   ]
  },
  {
   "cell_type": "markdown",
   "metadata": {},
   "source": [
    "## Step 2.4"
   ]
  },
  {
   "cell_type": "code",
   "execution_count": 93,
   "metadata": {},
   "outputs": [],
   "source": [
    "# You may put any computations you need here\n",
    "top_10_ans = answers_sdf.groupby('from_node').count().orderBy('count',ascending = False)"
   ]
  },
  {
   "cell_type": "code",
   "execution_count": 94,
   "metadata": {},
   "outputs": [
    {
     "name": "stdout",
     "output_type": "stream",
     "text": [
      "+-------+---------+\n",
      "|   node|ansCounts|\n",
      "+-------+---------+\n",
      "|  22656|    32030|\n",
      "|1144035|    25146|\n",
      "|  29407|    20842|\n",
      "| 548225|    16944|\n",
      "| 157882|    16615|\n",
      "| 115145|    16515|\n",
      "|  17034|    15437|\n",
      "| 100297|    15020|\n",
      "|   6309|    14291|\n",
      "|  34397|    14033|\n",
      "+-------+---------+\n",
      "only showing top 10 rows\n",
      "\n"
     ]
    }
   ],
   "source": [
    "top_10_ans.selectExpr(\"from_node as node\", \"count as ansCounts\").show(10)"
   ]
  },
  {
   "cell_type": "markdown",
   "metadata": {},
   "source": [
    "## Step 2.4.1 Results"
   ]
  },
  {
   "cell_type": "code",
   "execution_count": 95,
   "metadata": {},
   "outputs": [
    {
     "name": "stdout",
     "output_type": "stream",
     "text": [
      "+-------+---------+\n",
      "|   node|ansCounts|\n",
      "+-------+---------+\n",
      "|  22656|    32030|\n",
      "|1144035|    25146|\n",
      "|  29407|    20842|\n",
      "| 548225|    16944|\n",
      "| 157882|    16615|\n",
      "| 115145|    16515|\n",
      "|  17034|    15437|\n",
      "| 100297|    15020|\n",
      "|   6309|    14291|\n",
      "|  34397|    14033|\n",
      "+-------+---------+\n",
      "only showing top 10 rows\n",
      "\n"
     ]
    }
   ],
   "source": [
    "# TODO: output dataframe with top 10 users by number of questions\n",
    "top_10_ans = answers_sdf.groupby('from_node').count().orderBy('count',ascending = False)\n",
    "top_10_ans.selectExpr(\"from_node as node\", \"count as ansCounts\").show(10)"
   ]
  },
  {
   "cell_type": "code",
   "execution_count": 96,
   "metadata": {},
   "outputs": [],
   "source": [
    "# TODO: output top 10 users by number of answers to questions by distinct users\n",
    "top_10_user = spark.sql(\"SELECT from_node AS node, COUNT(DISTINCT to_node) AS userCounts FROM answers_sdf_view GROUP BY from_node ORDER BY userCounts DESC\")"
   ]
  },
  {
   "cell_type": "code",
   "execution_count": 97,
   "metadata": {},
   "outputs": [
    {
     "name": "stdout",
     "output_type": "stream",
     "text": [
      "+-------+----------+\n",
      "|   node|userCounts|\n",
      "+-------+----------+\n",
      "|  22656|     22860|\n",
      "|1144035|     21032|\n",
      "| 548225|     14127|\n",
      "|  29407|     13043|\n",
      "| 115145|     12243|\n",
      "|  19068|     12114|\n",
      "| 100297|     11486|\n",
      "|  34397|     11368|\n",
      "|  17034|     11347|\n",
      "|   6309|     11057|\n",
      "+-------+----------+\n",
      "only showing top 10 rows\n",
      "\n"
     ]
    }
   ],
   "source": [
    "top_10_user.show(10)"
   ]
  },
  {
   "cell_type": "markdown",
   "metadata": {},
   "source": [
    "## Step 2.4.2 Results"
   ]
  },
  {
   "cell_type": "code",
   "execution_count": 101,
   "metadata": {},
   "outputs": [],
   "source": [
    "# TODO: number of users whose questions have never been answered or commented on\n",
    "commented = comments_questions_sdf.alias('c').join(answers_sdf.alias('a'),F.col('c.to_node') == F.col('a.to_node'),'leftanti') "
   ]
  },
  {
   "cell_type": "code",
   "execution_count": 102,
   "metadata": {},
   "outputs": [
    {
     "data": {
      "text/plain": [
       "150681"
      ]
     },
     "execution_count": 102,
     "metadata": {},
     "output_type": "execute_result"
    }
   ],
   "source": [
    "commented.select(commented['to_node']).distinct().count()"
   ]
  },
  {
   "cell_type": "markdown",
   "metadata": {},
   "source": [
    "## Step 2.4.3 Results"
   ]
  },
  {
   "cell_type": "code",
   "execution_count": 130,
   "metadata": {},
   "outputs": [],
   "source": [
    "# TODO: top 10 pairs of users by mutual answers, along with the number of questions they have mutually answered.\n",
    "sum_table = spark.sql(\"WITH mutualA AS (SELECT from_node AS fromA, to_node AS toA, COUNT(*) AS countA FROM answers_sdf_view GROUP BY from_node, to_node HAVING from_node <> to_node), mutualB AS (SELECT from_node AS fromB, to_node AS toB, COUNT(*) AS countB FROM answers_sdf_view GROUP BY from_node, to_node HAVING from_node <> to_node) SELECT fromA AS user1, toA AS user2, countA + countB AS ansCounts FROM mutualA JOIN mutualB ON mutualA.fromA = mutualB.toB AND mutualA.toA = mutualB.fromB where fromA > toA\")"
   ]
  },
  {
   "cell_type": "code",
   "execution_count": 131,
   "metadata": {},
   "outputs": [
    {
     "name": "stdout",
     "output_type": "stream",
     "text": [
      "+-------+-------+---------+\n",
      "|  user1|  user2|ansCounts|\n",
      "+-------+-------+---------+\n",
      "| 366797|  15168|       65|\n",
      "| 650492| 505088|       57|\n",
      "|1675891|1525840|       49|\n",
      "|2313718|2138752|       46|\n",
      "|1931641|1642617|       41|\n",
      "|  51816|  22656|       40|\n",
      "| 143305|  37751|       37|\n",
      "| 298661| 252000|       33|\n",
      "|  22656|   4639|       32|\n",
      "| 139459|  84201|       32|\n",
      "+-------+-------+---------+\n",
      "only showing top 10 rows\n",
      "\n"
     ]
    }
   ],
   "source": [
    "sum_table.orderBy('ansCounts',ascending = False).show(10)"
   ]
  },
  {
   "cell_type": "markdown",
   "metadata": {},
   "source": [
    "# Step 3"
   ]
  },
  {
   "cell_type": "code",
   "execution_count": 114,
   "metadata": {},
   "outputs": [],
   "source": [
    "# TODO: remove these, which just create dummy data\n",
    "highest_indegree_sdf = spark.createDataFrame([{'node': 123, 'indegree': 4}])\n",
    "highest_outdegree_sdf = spark.createDataFrame([{'node': 123, 'outdegree': 5}])\n",
    "\n",
    "# TODO: Fill in according to HW spec\n",
    "highest_indegree_sdf = graph_sdf.groupBy(\"to_node\").count().orderBy('count',ascending = False)\n",
    "highest_indegree_sdf = highest_indegree_sdf.selectExpr(\"to_node as node\",\"count as indegree\")"
   ]
  },
  {
   "cell_type": "code",
   "execution_count": 115,
   "metadata": {},
   "outputs": [],
   "source": [
    "highest_outdegree_sdf = graph_sdf.groupBy(\"from_node\").count().orderBy('count',ascending = False)\n",
    "highest_outdegree_sdf = highest_outdegree_sdf.selectExpr(\"from_node as node\",\"count as outdegree\")"
   ]
  },
  {
   "cell_type": "markdown",
   "metadata": {},
   "source": [
    "## Step 3 Results"
   ]
  },
  {
   "cell_type": "code",
   "execution_count": 113,
   "metadata": {},
   "outputs": [
    {
     "name": "stdout",
     "output_type": "stream",
     "text": [
      "+-------+--------+\n",
      "|   node|indegree|\n",
      "+-------+--------+\n",
      "|  22656|   93143|\n",
      "| 548225|   54410|\n",
      "|  29407|   45824|\n",
      "| 157882|   39576|\n",
      "|1144035|   38909|\n",
      "+-------+--------+\n",
      "only showing top 5 rows\n",
      "\n"
     ]
    }
   ],
   "source": [
    "highest_indegree_sdf.show(5)"
   ]
  },
  {
   "cell_type": "code",
   "execution_count": 116,
   "metadata": {},
   "outputs": [
    {
     "name": "stdout",
     "output_type": "stream",
     "text": [
      "+-------+---------+\n",
      "|   node|outdegree|\n",
      "+-------+---------+\n",
      "|  22656|   101663|\n",
      "| 505088|    65522|\n",
      "|  17034|    65260|\n",
      "|1491895|    62746|\n",
      "| 100297|    54330|\n",
      "+-------+---------+\n",
      "only showing top 5 rows\n",
      "\n"
     ]
    }
   ],
   "source": [
    "highest_outdegree_sdf.show(5)"
   ]
  },
  {
   "cell_type": "markdown",
   "metadata": {},
   "source": [
    "## Step 4"
   ]
  },
  {
   "cell_type": "code",
   "execution_count": null,
   "metadata": {},
   "outputs": [],
   "source": [
    "# TODO: insert code as you like"
   ]
  },
  {
   "cell_type": "code",
   "execution_count": 118,
   "metadata": {},
   "outputs": [],
   "source": [
    "#\n",
    "# Step 4.1 Pre-processing\n",
    "#\n",
    "from pyspark.sql.functions import lit\n",
    "def spark_bfs(G, origins, max_depth):\n",
    "    G.cache()\n",
    "    schema = StructType([\n",
    "            StructField(\"node\", IntegerType(), True)\n",
    "        ])\n",
    "    #initialize frontier\n",
    "    frontier_sdf = spark.createDataFrame(origins, schema)\n",
    "    #initialize result\n",
    "    result_sdf = frontier_sdf.withColumn(\"depth\",lit(0))  \n",
    "    all_sdf = G.select(G['from_node'].alias('node')).unionAll(G.select(G['to_node'].alias('node')))\n",
    "    all_sdf = all_sdf.dropDuplicates(['node'])\n",
    "    #initialize visited\n",
    "    visited_sdf = spark.createDataFrame([], schema)\n",
    "    frontier_sdf = frontier_sdf.repartition(100, \"node\").cache()\n",
    "    result_sdf = result_sdf.repartition(100, \"node\").cache()\n",
    "    visited_sdf = visited_sdf.repartition(100, \"node\").cache()\n",
    "    i=1\n",
    "    while(i<max_depth+1):\n",
    "        #before each iteration, make frontier a set\n",
    "        frontier_sdf = frontier_sdf.distinct().cache()\n",
    "        #add previous frontier to visited\n",
    "        visited_sdf = visited_sdf.unionAll(frontier_sdf)\n",
    "        #update current frontier\n",
    "        frontier_sdf = G.alias('g').join(frontier_sdf.alias('f'),F.col('g.from_node') == F.col('f.node'))\n",
    "        frontier_sdf = frontier_sdf.select(frontier_sdf['to_node'].alias('node')).cache()\n",
    "        frontier_sdf = frontier_sdf.alias('f').join(visited_sdf.alias('v'),F.col('v.node') == F.col('f.node'),'leftanti')\n",
    "        append_sdf = frontier_sdf.withColumn(\"depth\",lit(i))\n",
    "        #add current frontier to result dataframe\n",
    "        result_sdf = result_sdf.unionAll(append_sdf).cache()\n",
    "        i = i+1\n",
    "    ##Your logic goes here\n",
    "    return result_sdf"
   ]
  },
  {
   "cell_type": "code",
   "execution_count": 119,
   "metadata": {},
   "outputs": [
    {
     "name": "stdout",
     "output_type": "stream",
     "text": [
      "+-------+-----+\n",
      "|   node|depth|\n",
      "+-------+-----+\n",
      "|   4550|    0|\n",
      "|    242|    0|\n",
      "|1619254|    1|\n",
      "|2332659|    1|\n",
      "|5504881|    1|\n",
      "+-------+-----+\n",
      "only showing top 5 rows\n",
      "\n"
     ]
    }
   ],
   "source": [
    "spark_bfs(comments_questions_sdf, [{'node': 4550}, {'node': 242}], 2).show(5)"
   ]
  },
  {
   "cell_type": "markdown",
   "metadata": {},
   "source": [
    "## Step 4.1"
   ]
  },
  {
   "cell_type": "code",
   "execution_count": null,
   "metadata": {},
   "outputs": [],
   "source": [
    "# TODO: comment out this line once your code is ready\n",
    "#bfs_sdf = spark.createDataFrame([{'node': 123, 'depth': 1}, {'node': 456, 'depth': 2}])\n",
    "\n",
    "# TODO: enable this once your code is ready\n",
    "origin_map = [{'node': 4550}, {'node': 242}]\n",
    "bfs_sdf = spark_bfs(comments_questions_sdf, origin_map, 2)"
   ]
  },
  {
   "cell_type": "code",
   "execution_count": null,
   "metadata": {},
   "outputs": [],
   "source": [
    "# TODO: insert code as you like"
   ]
  },
  {
   "cell_type": "markdown",
   "metadata": {},
   "source": [
    "## Step 4.1 Results"
   ]
  },
  {
   "cell_type": "code",
   "execution_count": 120,
   "metadata": {},
   "outputs": [
    {
     "data": {
      "text/plain": [
       "396"
      ]
     },
     "execution_count": 120,
     "metadata": {},
     "output_type": "execute_result"
    }
   ],
   "source": [
    "bfs_sdf.count()"
   ]
  },
  {
   "cell_type": "code",
   "execution_count": 121,
   "metadata": {},
   "outputs": [
    {
     "name": "stdout",
     "output_type": "stream",
     "text": [
      "+-------+-----+\n",
      "|   node|depth|\n",
      "+-------+-----+\n",
      "|   4550|    0|\n",
      "|    242|    0|\n",
      "|1619254|    1|\n",
      "|2332659|    1|\n",
      "|5504881|    1|\n",
      "|1139389|    1|\n",
      "|1940564|    1|\n",
      "| 818089|    1|\n",
      "|3047450|    1|\n",
      "|4773326|    1|\n",
      "|5070920|    1|\n",
      "|2495819|    1|\n",
      "|   1551|    1|\n",
      "| 602291|    1|\n",
      "| 451383|    1|\n",
      "|4569974|    1|\n",
      "| 633513|    1|\n",
      "|2705465|    1|\n",
      "|2605058|    1|\n",
      "|  67719|    1|\n",
      "+-------+-----+\n",
      "only showing top 20 rows\n",
      "\n"
     ]
    }
   ],
   "source": [
    "bfs_sdf.show()"
   ]
  },
  {
   "cell_type": "markdown",
   "metadata": {},
   "source": [
    "## Step 4.2"
   ]
  },
  {
   "cell_type": "code",
   "execution_count": 122,
   "metadata": {},
   "outputs": [],
   "source": [
    "#\n",
    "# Step 4.2 Pre-processing\n",
    "#\n",
    "def friend_rec(input_sdf, graph_sdf):\n",
    "    \n",
    "    ##Your logic goes in here\n",
    "    input_sdf.createOrReplaceTempView('input_sdf_view')\n",
    "    graph_sdf.createOrReplaceTempView('graph_sdf_view')\n",
    "    mutual_sdf = spark.sql(\"SELECT u1.node AS from_node, u2.node AS to_node FROM input_sdf_view u1 LEFT JOIN input_sdf_view u2 ON u1.node != u2.node GROUP BY u1.node, u2.node\")\n",
    "    mutual_sdf.cache()\n",
    "    mutual_sdf.createOrReplaceTempView('mutual_sdf_view')\n",
    "    friend_sdf = spark.sql(\"SELECT m.from_node, m.to_node FROM mutual_sdf_view m MINUS (SELECT g.from_node, g.to_node FROM graph_sdf_view g GROUP BY g.from_node, g.to_node) MINUS (SELECT g.to_node, g.from_node FROM graph_sdf_view g GROUP BY g.to_node, g.from_node)\")\n",
    "    friend_sdf.cache()\n",
    "    return friend_sdf"
   ]
  },
  {
   "cell_type": "code",
   "execution_count": 123,
   "metadata": {},
   "outputs": [],
   "source": [
    "# TODO: insert code as you like\n",
    "bfs_sdf.createOrReplaceTempView('bfs_sdf_view')\n",
    "filtered_bfs_sdf = spark.sql(\"SELECT node, depth FROM bfs_sdf_view WHERE depth = 2 GROUP BY node, depth HAVING COUNT(*)>1\")"
   ]
  },
  {
   "cell_type": "code",
   "execution_count": null,
   "metadata": {},
   "outputs": [],
   "source": [
    "# TODO: comment this line out when your function works\n",
    "#friend_recommendations_sdf = spark.createDataFrame([\\\n",
    "                                                    #{'from_node': 123, 'to_node': 456}, \\\n",
    "                                                    #{'from_node': 456, 'to_node': 123}])\n",
    "\n",
    "\n",
    "# TODO: enable this when your function works\n",
    "\n",
    "friend_recommendations_sdf = friend_rec(filtered_bfs_sdf, comments_questions_sdf)"
   ]
  },
  {
   "cell_type": "markdown",
   "metadata": {},
   "source": [
    "## Step 4.2 Results"
   ]
  },
  {
   "cell_type": "code",
   "execution_count": 124,
   "metadata": {},
   "outputs": [
    {
     "data": {
      "text/plain": [
       "1720"
      ]
     },
     "execution_count": 124,
     "metadata": {},
     "output_type": "execute_result"
    }
   ],
   "source": [
    "friend_recommendations_sdf.count()"
   ]
  },
  {
   "cell_type": "code",
   "execution_count": 125,
   "metadata": {},
   "outputs": [
    {
     "name": "stdout",
     "output_type": "stream",
     "text": [
      "+---------+-------+\n",
      "|from_node|to_node|\n",
      "+---------+-------+\n",
      "|    21918| 453447|\n",
      "|    21918|4204628|\n",
      "|    46646| 267679|\n",
      "|    59017|1187554|\n",
      "|   104015|  55503|\n",
      "|   211452|  59017|\n",
      "|   503032|2269511|\n",
      "|  1406214| 503032|\n",
      "|  2269511|  21918|\n",
      "|  3830157| 132640|\n",
      "|  4204628|  47550|\n",
      "|    46646|1127460|\n",
      "|    55503| 104015|\n",
      "|    60602|1187554|\n",
      "|   267679|1061543|\n",
      "|   393268| 318811|\n",
      "|  1218595|1187554|\n",
      "|  1218595|4800193|\n",
      "|    27483|  46646|\n",
      "|    63775|  46646|\n",
      "+---------+-------+\n",
      "only showing top 20 rows\n",
      "\n"
     ]
    }
   ],
   "source": [
    "friend_recommendations_sdf.show()"
   ]
  },
  {
   "cell_type": "markdown",
   "metadata": {},
   "source": [
    "## Step 4.3: Graph visualization"
   ]
  },
  {
   "cell_type": "markdown",
   "metadata": {},
   "source": [
    "### Once you have excecuted the cells in Step 4.2 and you have friend_recommendations_sdf, lets create friend_recommendations_df using toPandas(). This creates an in-memory dataFrame that we can use to build the graph. Here we have used ('from_node','to_node') as column names in friend_recommendations_sdf, please change it to what you have used in yours."
   ]
  },
  {
   "cell_type": "code",
   "execution_count": 126,
   "metadata": {},
   "outputs": [],
   "source": [
    "import networkx as nx\n",
    "\n",
    "# TODO: create friend_graph NetworkX graph from friend_recommendations_df from friend_recommendations_sdf\n",
    "friend_recommendations_df = friend_recommendations_sdf.toPandas()\n",
    "friend_graph=nx.from_pandas_dataframe(friend_recommendations_df, 'from_node', 'to_node')"
   ]
  },
  {
   "cell_type": "markdown",
   "metadata": {},
   "source": [
    "## Step 4.3 Results"
   ]
  },
  {
   "cell_type": "code",
   "execution_count": 127,
   "metadata": {},
   "outputs": [
    {
     "name": "stdout",
     "output_type": "stream",
     "text": [
      "Number of nodes (characters) in this graph is 42\n",
      "Number of edges in this graph is 860\n",
      "Graph diameter is 2\n"
     ]
    }
   ],
   "source": [
    "print (\"Number of nodes (characters) in this graph is\", friend_graph.order()) # number of nodes\n",
    "print (\"Number of edges in this graph is\", len(friend_graph.edges())) # number of edges\n",
    "print (\"Graph diameter is\", nx.diameter(friend_graph)) # maximum eccentricity"
   ]
  },
  {
   "cell_type": "code",
   "execution_count": 128,
   "metadata": {},
   "outputs": [
    {
     "data": {
      "image/png": "[encoded data removed]",
      "text/plain": [
       "<matplotlib.figure.Figure at 0x7fee8ec5ecc0>"
      ]
     },
     "metadata": {},
     "output_type": "display_data"
    }
   ],
   "source": [
    "%matplotlib inline\n",
    "nx.draw(friend_graph)"
   ]
  }
 ],
 "metadata": {
  "kernelspec": {
   "display_name": "Python 3",
   "language": "python",
   "name": "python3"
  },
  "language_info": {
   "codemirror_mode": {
    "name": "ipython",
    "version": 3
   },
   "file_extension": ".py",
   "mimetype": "text/x-python",
   "name": "python",
   "nbconvert_exporter": "python",
   "pygments_lexer": "ipython3",
   "version": "3.6.3"
  }
 },
 "nbformat": 4,
 "nbformat_minor": 2
}
